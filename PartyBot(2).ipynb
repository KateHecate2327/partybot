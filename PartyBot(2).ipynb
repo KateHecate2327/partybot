{
 "cells": [
  {
   "cell_type": "code",
   "execution_count": 1,
   "id": "6cd48764",
   "metadata": {},
   "outputs": [],
   "source": [
    "import random\n",
    "import nltk\n",
    "from sklearn.feature_extraction.text import TfidfVectorizer\n",
    "from sklearn.svm import LinearSVC, SVC\n",
    "from sklearn.linear_model import LogisticRegression"
   ]
  },
  {
   "cell_type": "code",
   "execution_count": 2,
   "id": "9d5d1dfe",
   "metadata": {},
   "outputs": [],
   "source": [
    "BOT_CONFIG = {\n",
    "    'intents': {\n",
    "        'hello': {\n",
    "            'examples': ['Привет', 'Шалом','Приветики','Хеллоу'],\n",
    "            'responses': ['Привет, человек', 'Оххайо гудзаймас!', 'Че как оно']\n",
    "        },\n",
    "        'bye': {\n",
    "            'examples': ['Я не прийду', 'Не смогу сегодня', 'Сегодня пас', 'Сори не смогу'],\n",
    "            'responses': ['Еще увидимся', 'Ты чё, пес!', 'Ну и лох', 'А жаль:(']\n",
    "        },\n",
    "        'go_party': {\n",
    "            'examples': ['Кто сегодня в офис', 'Сегодня туса','Сегодня хакатон', 'Заказываем', 'Заказали', 'Закажите','Натаныча','Междубулками', 'Я собираюсь выезжать', 'Выезжаю', 'Во сколько движ', 'движ', 'афтерпати','заказываем в фарфор', 'кто собирается', 'останется на афтерпати', 'придешь в офис', 'на тусич', 'можно подтягиваться', 'мы в офисе', 'возьми калик свой', 'И табак', 'угли', 'кальян', 'хакатонная туса', 'Откройте',  'подсветку взял кальянную', 'калик пакую и буду выезжат до восьми', 'должен приехать', 'приеду', 'Купи мне пива', 'Я пошёл в КБ', 'кому нибудь че нибудь надо захватить?',' Идешь сегодня?', 'курить калик', 'бухич в офисе', 'Ждем', 'в джаст дэнс', 'кто придет', 'Офис', 'потанцевать джастденс', 'тусы в офисе', 'Ещё не закончили ты придешь?', 'Сколько людей соберется?', 'Калик курить', 'Чо за движ пятничный?', 'Тусим?', 'Кому чо брать', 'Возьмите мне сидр какой-нибудь', 'вино', 'алкашка', 'Есть кто в офисе?', 'Мы в течении часа приедем', 'Во скок собраться планируете', 'еду', 'уже еду', 'тусич', 'бухич', 'Шо, кто в офисе'],\n",
    "            'responses': ['Позвони в охрану, пёс', 'Не забудь позвонить в охрану']\n",
    "        },\n",
    "    },\n",
    "    'failure_phrases': [\n",
    "        'Все хуйня','Ты пьян, отоспись',\n",
    "        'Ты на пенек сел, должен был касарь отдать',\n",
    "    ]\n",
    "}\n",
    "X_texts = [] # реплики\n",
    "y = [] # классы, если класс не подходит нужно не отправлять ответ, не ддосить чат\n",
    "\n",
    "for intent, intent_data in BOT_CONFIG['intents'].items():\n",
    "    for example in intent_data['examples']:\n",
    "        X_texts.append(example)\n",
    "        y.append(intent)\n",
    "\n",
    "        \n",
    "vectorizer = TfidfVectorizer(analyzer='char_wb', ngram_range=(2,4))\n",
    "X = vectorizer.fit_transform(X_texts)\n",
    "clf = LinearSVC().fit(X,y)\n",
    "clf_proba = SVC(probability = True).fit(X,y)\n",
    "\n"
   ]
  },
  {
   "cell_type": "code",
   "execution_count": 3,
   "id": "e8f76f33",
   "metadata": {},
   "outputs": [],
   "source": [
    "def get_intent(question):\n",
    "        question_vector = vectorizer.transform([question])\n",
    "        intent = clf.predict(question_vector)[0]\n",
    "        \n",
    "        examples = BOT_CONFIG['intents'][intent]['examples']\n",
    "        for example in examples:\n",
    "            dist = nltk.edit_distance(question, example)\n",
    "            dist_percentage = dist / len(example)\n",
    "            if dist_percentage < 0.2:\n",
    "                return intent\n",
    "        #index = list(clf_proba.classes_).index(intent)\n",
    "        #proba = clf_proba.predict_proba(question_vector)[0][index]\n",
    "        #print(intent, proba)\n",
    "        #if proba > 0.20: # если класс не подходит нужно не отправлять ответ, не ддосить чат\n",
    "            #return intent\n",
    "get_intent('Выехал')\n"
   ]
  },
  {
   "cell_type": "code",
   "execution_count": 4,
   "id": "b7ad9201",
   "metadata": {},
   "outputs": [],
   "source": [
    "def qet_answer_by_intent(intent):\n",
    "    if intent in BOT_CONFIG['intents']:\n",
    "        phrases = BOT_CONFIG['intents'][intent]['responses']\n",
    "        return random.choise(phrases)\n",
    "    "
   ]
  },
  {
   "cell_type": "code",
   "execution_count": 5,
   "id": "096fddc3",
   "metadata": {},
   "outputs": [],
   "source": [
    "#def filter_text(text):\n",
    "    #text = text.lower()\n",
    "    #text = [c for c in text if c in 'абвгдеёжзийклмнопрстуфхцчшщъыьэюя- ']\n",
    "    #text = ''.join(text)\n",
    "   # return text"
   ]
  },
  {
   "cell_type": "code",
   "execution_count": 6,
   "id": "b117e58e",
   "metadata": {},
   "outputs": [],
   "source": [
    "def get_failure_phrase():\n",
    "    phrases = BOT_CONFIG['failure_phrases']\n",
    "    return random.choice(phrases)"
   ]
  },
  {
   "cell_type": "code",
   "execution_count": 7,
   "id": "a4e36ab6",
   "metadata": {},
   "outputs": [],
   "source": [
    "#def get_intent(question):\n",
    "   # for intent, intent_data in BOT_CONFIG['intents'].items():\n",
    "   #     for example in intent_data['examples']:\n",
    "   #         filtered_example = filter_text(example)\n",
    "   #         dist = nltk.edit_distance(filtered_example, filter_text(question))\n",
    "   #         if dist / len(filtered_example) < 0.4:\n",
    "   #                 return intent"
   ]
  },
  {
   "cell_type": "code",
   "execution_count": 8,
   "id": "af39a766",
   "metadata": {},
   "outputs": [],
   "source": [
    "def bot(question):\n",
    "    # NLU\n",
    "    intent = get_intent(question)\n",
    "    # ищем готовый ответ из конфига\n",
    "    if intent:\n",
    "        answer = get_answer_by_intent(intent)\n",
    "        if answer:\n",
    "            return answer\n",
    "    # Генерируем ответ по контексту из файла\n",
    "    answer = generate_answer_by_text(question)\n",
    "    if answer:\n",
    "        return answer\n",
    "\n",
    "#answer = get_failure_phrase()\n",
    "#return answer\n",
    "\n"
   ]
  },
  {
   "cell_type": "code",
   "execution_count": 9,
   "id": "4eb126fc",
   "metadata": {},
   "outputs": [
    {
     "name": "stdout",
     "output_type": "stream",
     "text": [
      "привет\n"
     ]
    },
    {
     "ename": "NameError",
     "evalue": "name 'get_answer_by_intent' is not defined",
     "output_type": "error",
     "traceback": [
      "\u001b[0;31m---------------------------------------------------------------------------\u001b[0m",
      "\u001b[0;31mNameError\u001b[0m                                 Traceback (most recent call last)",
      "\u001b[0;32m/var/folders/83/ytfyhz1s105728tgx6_v5mtw0000gn/T/ipykernel_97499/3243744052.py\u001b[0m in \u001b[0;36m<module>\u001b[0;34m\u001b[0m\n\u001b[1;32m      2\u001b[0m \u001b[0;32mwhile\u001b[0m \u001b[0mquestion\u001b[0m \u001b[0;32mnot\u001b[0m \u001b[0;32min\u001b[0m \u001b[0;34m[\u001b[0m\u001b[0;34m''\u001b[0m\u001b[0;34m]\u001b[0m\u001b[0;34m:\u001b[0m\u001b[0;34m\u001b[0m\u001b[0;34m\u001b[0m\u001b[0m\n\u001b[1;32m      3\u001b[0m     \u001b[0mquestion\u001b[0m \u001b[0;34m=\u001b[0m \u001b[0minput\u001b[0m\u001b[0;34m(\u001b[0m\u001b[0;34m)\u001b[0m\u001b[0;34m\u001b[0m\u001b[0;34m\u001b[0m\u001b[0m\n\u001b[0;32m----> 4\u001b[0;31m     \u001b[0manswer\u001b[0m \u001b[0;34m=\u001b[0m \u001b[0mbot\u001b[0m\u001b[0;34m(\u001b[0m\u001b[0mquestion\u001b[0m\u001b[0;34m)\u001b[0m\u001b[0;34m\u001b[0m\u001b[0;34m\u001b[0m\u001b[0m\n\u001b[0m\u001b[1;32m      5\u001b[0m     \u001b[0mprint\u001b[0m\u001b[0;34m(\u001b[0m\u001b[0manswer\u001b[0m\u001b[0;34m)\u001b[0m\u001b[0;34m\u001b[0m\u001b[0;34m\u001b[0m\u001b[0m\n",
      "\u001b[0;32m/var/folders/83/ytfyhz1s105728tgx6_v5mtw0000gn/T/ipykernel_97499/2792983353.py\u001b[0m in \u001b[0;36mbot\u001b[0;34m(question)\u001b[0m\n\u001b[1;32m      4\u001b[0m     \u001b[0;31m# ищем готовый ответ из конфига\u001b[0m\u001b[0;34m\u001b[0m\u001b[0;34m\u001b[0m\u001b[0m\n\u001b[1;32m      5\u001b[0m     \u001b[0;32mif\u001b[0m \u001b[0mintent\u001b[0m\u001b[0;34m:\u001b[0m\u001b[0;34m\u001b[0m\u001b[0;34m\u001b[0m\u001b[0m\n\u001b[0;32m----> 6\u001b[0;31m         \u001b[0manswer\u001b[0m \u001b[0;34m=\u001b[0m \u001b[0mget_answer_by_intent\u001b[0m\u001b[0;34m(\u001b[0m\u001b[0mintent\u001b[0m\u001b[0;34m)\u001b[0m\u001b[0;34m\u001b[0m\u001b[0;34m\u001b[0m\u001b[0m\n\u001b[0m\u001b[1;32m      7\u001b[0m         \u001b[0;32mif\u001b[0m \u001b[0manswer\u001b[0m\u001b[0;34m:\u001b[0m\u001b[0;34m\u001b[0m\u001b[0;34m\u001b[0m\u001b[0m\n\u001b[1;32m      8\u001b[0m             \u001b[0;32mreturn\u001b[0m \u001b[0manswer\u001b[0m\u001b[0;34m\u001b[0m\u001b[0;34m\u001b[0m\u001b[0m\n",
      "\u001b[0;31mNameError\u001b[0m: name 'get_answer_by_intent' is not defined"
     ]
    }
   ],
   "source": [
    "question = None\n",
    "while question not in ['']:\n",
    "    question = input()\n",
    "    answer = bot(question)\n",
    "    print(answer)\n"
   ]
  },
  {
   "cell_type": "code",
   "execution_count": null,
   "id": "2c725b96",
   "metadata": {},
   "outputs": [],
   "source": []
  },
  {
   "cell_type": "code",
   "execution_count": null,
   "id": "add88db7",
   "metadata": {},
   "outputs": [],
   "source": []
  },
  {
   "cell_type": "code",
   "execution_count": null,
   "id": "180d2bca",
   "metadata": {},
   "outputs": [],
   "source": []
  },
  {
   "cell_type": "code",
   "execution_count": null,
   "id": "f36032dd",
   "metadata": {},
   "outputs": [],
   "source": []
  },
  {
   "cell_type": "code",
   "execution_count": null,
   "id": "2503bcc0",
   "metadata": {},
   "outputs": [],
   "source": []
  },
  {
   "cell_type": "code",
   "execution_count": null,
   "id": "f54cd5a2",
   "metadata": {},
   "outputs": [],
   "source": []
  },
  {
   "cell_type": "code",
   "execution_count": null,
   "id": "226e6580",
   "metadata": {},
   "outputs": [],
   "source": []
  },
  {
   "cell_type": "code",
   "execution_count": null,
   "id": "f7e67748",
   "metadata": {},
   "outputs": [],
   "source": []
  }
 ],
 "metadata": {
  "kernelspec": {
   "display_name": "Python 3 (ipykernel)",
   "language": "python",
   "name": "python3"
  },
  "language_info": {
   "codemirror_mode": {
    "name": "ipython",
    "version": 3
   },
   "file_extension": ".py",
   "mimetype": "text/x-python",
   "name": "python",
   "nbconvert_exporter": "python",
   "pygments_lexer": "ipython3",
   "version": "3.9.7"
  }
 },
 "nbformat": 4,
 "nbformat_minor": 5
}
